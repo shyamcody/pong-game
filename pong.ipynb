{
 "cells": [
  {
   "cell_type": "code",
   "execution_count": 1,
   "metadata": {},
   "outputs": [
    {
     "name": "stdout",
     "output_type": "stream",
     "text": [
      "pygame 1.9.4\n",
      "Hello from the pygame community. https://www.pygame.org/contribute.html\n"
     ]
    }
   ],
   "source": [
    "#skeliton for a pygame template\n",
    "#imports\n",
    "import pygame\n",
    "import random\n",
    "#set the variables\n",
    "width=360\n",
    "height=480\n",
    "fps=30\n",
    "white=(255,255,255)\n",
    "black=(0,0,0)\n",
    "red=(255,0,0)\n",
    "green=(0,255,0)\n",
    "blue=(0,0,255)"
   ]
  },
  {
   "cell_type": "code",
   "execution_count": 2,
   "metadata": {},
   "outputs": [],
   "source": [
    "#here, we construct sprite object:\n",
    "#here we have constructed our player:\n",
    "class player1(pygame.sprite.Sprite): #just like object for the basic class in general python, pygame.sprite.Sprite is for game\n",
    "    #sprite for player\n",
    "    def __init__(self,x,y):\n",
    "        pygame.sprite.Sprite.__init__(self) #you have to call the init from the parent class here for some reason\n",
    "        self.image=pygame.Surface((50,10)) #for keeping it easy, we just take the image as (50,50) green rectangle\n",
    "        self.image.fill(green)\n",
    "        self.image.set_colorkey(black)\n",
    "        self.rect=self.image.get_rect()\n",
    "        self.rect.centerx=x\n",
    "        self.rect.bottom=y\n",
    "        \n",
    "    def update(self):\n",
    "        self.speedx=0\n",
    "        keystate=pygame.key.get_pressed()\n",
    "        if keystate[pygame.K_LEFT]:\n",
    "            self.speedx=-5\n",
    "        if keystate[pygame.K_RIGHT]:\n",
    "            self.speedx=5\n",
    "        if self.rect.right>width:\n",
    "            self.rect.right=width  #implementing  walls\n",
    "        if self.rect.right<0:\n",
    "            self.rect.left=0\n",
    "        self.rect.x+=self.speedx  "
   ]
  },
  {
   "cell_type": "code",
   "execution_count": 13,
   "metadata": {},
   "outputs": [],
   "source": [
    "class player2(pygame.sprite.Sprite): #just like object for the basic class in general python, pygame.sprite.Sprite is for game\n",
    "    #sprite for player\n",
    "    def __init__(self,x,y):\n",
    "        pygame.sprite.Sprite.__init__(self) #you have to call the init from the parent class here for some reason\n",
    "        self.image=pygame.Surface((50,10)) #for keeping it easy, we just take the image as (50,50) green rectangle\n",
    "        self.image.fill(green)\n",
    "        self.image.set_colorkey(black)\n",
    "        self.rect=self.image.get_rect()\n",
    "        self.rect.centerx=x\n",
    "        self.rect.bottom=y+10\n",
    "        \n",
    "    def update(self):\n",
    "        self.speedx=0\n",
    "        keystate=pygame.key.get_pressed()\n",
    "        if keystate[pygame.K_a]:\n",
    "            self.speedx=-5\n",
    "        if keystate[pygame.K_d]:\n",
    "            self.speedx=5\n",
    "        if self.rect.right>width:\n",
    "            self.rect.right=width  #implementing  walls\n",
    "        if self.rect.right<0:\n",
    "            self.rect.left=0\n",
    "        self.rect.x+=self.speedx  "
   ]
  },
  {
   "cell_type": "code",
   "execution_count": 43,
   "metadata": {},
   "outputs": [],
   "source": [
    "class Ball(pygame.sprite.Sprite):\n",
    "    def __init__(self):\n",
    "        pygame.sprite.Sprite.__init__(self)\n",
    "        self.image=pygame.Surface((20,20))\n",
    "        self.image.fill(white)\n",
    "        self.image.set_colorkey(black)\n",
    "        self.rect=self.image.get_rect()\n",
    "        self.rect.centerx=width/3\n",
    "        self.rect.bottom=height/2\n",
    "        self.speedy=5\n",
    "        self.speedx=0\n",
    "    def update(self):\n",
    "        self.rect.bottom+=self.speedy\n",
    "        self.rect.centerx+=self.speedx\n",
    "        if self.rect.bottom>height:\n",
    "            self.speedy=-5\n",
    "        if self.rect.top<0:\n",
    "            self.speedy=5\n",
    "        if self.rect.right>width or self.rect.centerx<-10:\n",
    "            self.speedx=-self.speedx    \n",
    "    def deflect1(self,other):\n",
    "        if self.rect.bottom<475:\n",
    "            r=other.rect.centerx\n",
    "            self.speedx=5*(180-r)/100 +random.randrange(-1,1)\n",
    "            self.speedy=-self.speedy\n",
    "    def deflect2(self,other):\n",
    "        if self.rect.bottom>5:\n",
    "            r=other.rect.centerx\n",
    "            self.speedx=(-5)*(r-180)/100+random.randrange(-1,1)\n",
    "            self.speedy=-self.speedy\n",
    "            \n",
    "       # hits=pygame.sprite.spritecollide(self,player1,False)\n",
    "       # if hits:\n",
    "        #    self.speedy=5\n",
    "        #hits=pygame.sprite.spritecollide(self,player2,False)\n",
    "        #if hits:\n",
    "        #    self.speedy=-5    "
   ]
  },
  {
   "cell_type": "code",
   "execution_count": 44,
   "metadata": {},
   "outputs": [],
   "source": [
    "pygame.init()\n",
    "pygame.mixer.init()\n",
    "#create screen, show the name of the game and keep a clock\n",
    "screen=pygame.display.set_mode((width,height))\n",
    "pygame.display.set_caption(\"two player pong\")\n",
    "clock=pygame.time.Clock()\n",
    "\n",
    "all_sprites=pygame.sprite.Group() #making a group of sprites make the update and drawing a lot easier\n",
    "balls=pygame.sprite.Group()\n",
    "goodplayer=player1(0,480)\n",
    "badplayer=player2(100,0)\n",
    "ball=Ball()\n",
    "all_sprites.add(goodplayer)\n",
    "all_sprites.add(badplayer)\n",
    "all_sprites.add(ball)\n",
    "balls.add(ball)\n",
    "#starting the main game section:\n",
    "running = True\n",
    "count1=0\n",
    "count2=0\n",
    "#game loop \n",
    "while running:\n",
    "    clock.tick(fps)\n",
    "    #process input\n",
    "    for event in pygame.event.get():\n",
    "        #check for closing the window\n",
    "        if event.type==pygame.QUIT:\n",
    "            running=False\n",
    "    #update\n",
    "    all_sprites.update()\n",
    "    hits1=pygame.sprite.spritecollide(goodplayer,balls,False)\n",
    "    hits2=pygame.sprite.spritecollide(badplayer,balls,False)\n",
    "    if hits1:\n",
    "        ball.deflect1(goodplayer)\n",
    "        count1+=1\n",
    "    if hits2:\n",
    "        ball.deflect2(badplayer)\n",
    "        count2+=1\n",
    "    #    print(count1)\n",
    "    #if hits2:\n",
    "    #    count2+=1\n",
    "    if count1>count2+1000 or count2>count1+1000:\n",
    "        running=False\n",
    "    #draw/render\n",
    "    screen.fill(black)\n",
    "    all_sprites.draw(screen)\n",
    "    #drawing may slow your game down. That's why, first draw everything and then flip the display to show new\n",
    "    #here it happens below\n",
    "    pygame.display.flip()\n",
    "#really important to put quit, otherwise, it needs to kill the kernel to stop the program    \n",
    "pygame.quit()    "
   ]
  },
  {
   "cell_type": "code",
   "execution_count": 30,
   "metadata": {},
   "outputs": [
    {
     "data": {
      "text/plain": [
       "55"
      ]
     },
     "execution_count": 30,
     "metadata": {},
     "output_type": "execute_result"
    }
   ],
   "source": [
    "count1"
   ]
  },
  {
   "cell_type": "code",
   "execution_count": 31,
   "metadata": {},
   "outputs": [
    {
     "data": {
      "text/plain": [
       "74"
      ]
     },
     "execution_count": 31,
     "metadata": {},
     "output_type": "execute_result"
    }
   ],
   "source": [
    "count2"
   ]
  },
  {
   "cell_type": "code",
   "execution_count": null,
   "metadata": {},
   "outputs": [],
   "source": []
  }
 ],
 "metadata": {
  "kernelspec": {
   "display_name": "Python 3",
   "language": "python",
   "name": "python3"
  },
  "language_info": {
   "codemirror_mode": {
    "name": "ipython",
    "version": 3
   },
   "file_extension": ".py",
   "mimetype": "text/x-python",
   "name": "python",
   "nbconvert_exporter": "python",
   "pygments_lexer": "ipython3",
   "version": "3.7.1"
  }
 },
 "nbformat": 4,
 "nbformat_minor": 2
}
